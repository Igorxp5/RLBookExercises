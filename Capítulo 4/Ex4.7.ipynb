{
 "cells": [
  {
   "cell_type": "markdown",
   "metadata": {},
   "source": [
    "### Q: Write a program for policy iteration and re-solve Jack’s car rental problem with the following changes. One of Jack’s employees at the first locationrides a bus home each night and lives near the second location. She is happy to shuttleone car to the second location for free. Each additional car still costs 2, as do all carsmoved in the other direction. In addition, Jack has limited parking space at each location. If more than 10 cars are kept overnight at a location (after any moving of cars), then an additional cost of 4 must be incurred to use a second parking lot (independent of how many cars are kept there). These sorts of nonlinearities and arbitrary dynamics often occur in real problems and cannot easily be handled by optimization methods other than dynamic programming. To check your program, first replicate the results given for the original problem."
   ]
  },
  {
   "cell_type": "code",
   "execution_count": null,
   "metadata": {},
   "outputs": [],
   "source": [
    "import numpy as np\n",
    "from copy import copy\n",
    "from random import choice\n",
    "from scipy.stats import poisson\n",
    "from itertools import product, chain\n",
    "\n",
    "import matplotlib.pyplot as plt"
   ]
  },
  {
   "cell_type": "markdown",
   "metadata": {},
   "source": [
    "**Constantes e definições**"
   ]
  },
  {
   "cell_type": "code",
   "execution_count": null,
   "metadata": {},
   "outputs": [],
   "source": [
    "# Constantes\n",
    "RENT_CAR_REWARD = 10\n",
    "MOVE_CAR_COST = 2\n",
    "MAX_MOVE_CARS = 5\n",
    "TOTAL_CARS_BY_LOCATION = 20\n",
    "\n",
    "FIRST_LOCATION_FREE_MOVE_CARS = 0\n",
    "SECOND_LOCATION_FREE_MOVE_CARS = 0\n",
    "\n",
    "PARKING_LOT_COST = 0\n",
    "FREE_PARKING_SPACE = TOTAL_CARS_BY_LOCATION\n",
    "\n",
    "# λ para a distribuição de probabilidade Poisson do número de retornos e pedidos de aluguel\n",
    "FIRST_LOCATION_REQUEST_POISSON_LAMBDA = 3\n",
    "FIRST_LOCATION_RETURN_POISSON_LAMBDA = 3\n",
    "SECOND_LOCATION_REQUEST_POISSON_LAMBDA = 4\n",
    "SECOND_LOCATION_RETURN_POISSON_LAMBDA = 2\n",
    "\n",
    "# Hyperparâmetros \n",
    "DISCOUNT_FACTOR = 0.9\n",
    "ERROR_THRESHOLD = 0.01\n",
    "MAX_POLICY_IMPROVEMENT_ITERATIONS = 10"
   ]
  },
  {
   "cell_type": "code",
   "execution_count": null,
   "metadata": {},
   "outputs": [],
   "source": [
    "# Estados\n",
    "STATES_BY_LOCATION = tuple(range(TOTAL_CARS_BY_LOCATION + 1))\n",
    "STATES = list(product(STATES_BY_LOCATION, STATES_BY_LOCATION))"
   ]
  },
  {
   "cell_type": "code",
   "execution_count": null,
   "metadata": {},
   "outputs": [],
   "source": [
    "def actions_set(state):\n",
    "    \"\"\"\n",
    "    Ações possíveis dado um estado. Exemplo: Dado estado (15, 18) -> [-5, -4, -3, -2, -1, 0, 1, 2]\n",
    "    \"\"\"\n",
    "    first_location, second_location = state\n",
    "    # O número máximo de carros que pode sair de uma locadora é, o menor número entre:\n",
    "    #    - O número de carros na locadora (first_location)\n",
    "    #    - O número máximo de carros que a segunda locadora pode receber (TOTAL_CARS_BY_LOCATION - second_location)\n",
    "    #    - O número máximo de movimentos (MAX_MOVE_CARS)\n",
    "    from_first_location = min(first_location, TOTAL_CARS_BY_LOCATION - second_location, MAX_MOVE_CARS)\n",
    "    from_first_location = range(1, from_first_location + 1)\n",
    "    from_second_location = min(second_location, TOTAL_CARS_BY_LOCATION - first_location, MAX_MOVE_CARS)\n",
    "    from_second_location = range(-1, from_second_location * -1 - 1, -1)\n",
    "    return tuple(chain(from_second_location, (0,), from_first_location))\n",
    "\n",
    "# Dicionários com todas as ações possíveis para cada estado\n",
    "ACTIONS_SET = {s: actions_set(s) for s in STATES}"
   ]
  },
  {
   "cell_type": "code",
   "execution_count": null,
   "metadata": {},
   "outputs": [],
   "source": [
    "# Não usado para o problema, a função está aqui por pena de apagar\n",
    "def rental_cars_probability_given_balance(rental_cars, balance, request_lambda, return_lambda):\n",
    "    \"\"\"\n",
    "    Probabilidade de pedidos (rental_cars) dado o saldo final de carros (balance).\n",
    "    Segundo o teorema de Bayes (Probabilidade condicional), temos:\n",
    "    P(A | B) = P(B | A) * P (A) / P(B)\n",
    "    P(A) -> Probabilidade da quantidade de alugueis no dia\n",
    "    P(B) -> Probabilidade do saldo final de carros no dia\n",
    "    P(B | A) -> Probabilidade do saldo final de carros dado a quantidade de alugueis no dia\n",
    "    \n",
    "    Dado a quantidade de alugueis no dia, a probabilidade do saldo final de carros é igual a probabilidade\n",
    "    de carros devolvidos = saldos + quantidade de carros alugados no dia (balance + rental_cars).\n",
    "    \n",
    "    A probabilidade do saldo final de carros é dado pela distribuição Skellam. Skellam é a \n",
    "    dsitribuição de probabilidade da diferença entre duas variáveis aleatórias de Poission\n",
    "    \"\"\"\n",
    "    return (poisson.pmf(balance + rental_cars, return_lambda) * poisson.pmf(rental_cars, request_lambda) / \n",
    "            skellam.pmf(balance, return_lambda, request_lambda))"
   ]
  },
  {
   "cell_type": "code",
   "execution_count": null,
   "metadata": {},
   "outputs": [],
   "source": [
    "def reward_expectation(state, action, state_values):\n",
    "    \"\"\"\n",
    "    Recompensa total esperada dado um estado e uma ação\n",
    "    \"\"\"\n",
    "    first_location, second_location = state\n",
    "\n",
    "    # Primeiro é necessário fazer a transferência de carros entre as locadoras\n",
    "    first_location -= action\n",
    "    second_location += action\n",
    "    \n",
    "    # Custo por está fazendo movimentação dos carros entre as locadoras\n",
    "    move_car_reward = 0\n",
    "    if action > 0:\n",
    "        move_car_reward = (action - FIRST_LOCATION_FREE_MOVE_CARS) * -MOVE_CAR_COST\n",
    "    elif action < 0:\n",
    "        move_car_reward = (abs(action) - SECOND_LOCATION_FREE_MOVE_CARS) * -MOVE_CAR_COST\n",
    "    \n",
    "    reward = 0\n",
    "    \n",
    "    for first_rented in range(first_location + 1):\n",
    "        # A probabilidade de todos os carros da locadoras serem alugados inclui também \n",
    "        # as probabilidades dos números maiores que a quantidade total de carros. Pois se a quantidade\n",
    "        # de pedidos exceder, ainda sim o todos os carros vão ser alugados. Ou seja é a probabilidade acumulada\n",
    "        # até ali subtraída de 100%. Esse pensamento é aplicado para todos os eventos Poisson desse problema.\n",
    "        if first_rented == first_location:\n",
    "            rent_probability_1 = 1 - poisson.cdf(first_rented - 1, FIRST_LOCATION_REQUEST_POISSON_LAMBDA)\n",
    "        else:\n",
    "            rent_probability_1 = poisson.pmf(first_rented, FIRST_LOCATION_REQUEST_POISSON_LAMBDA)\n",
    "        \n",
    "        first_reward = first_rented * RENT_CAR_REWARD\n",
    "        \n",
    "        for second_rented in range(second_location + 1):\n",
    "            if second_rented == second_location:\n",
    "                rent_probability = 1 - poisson.cdf(second_rented - 1, SECOND_LOCATION_REQUEST_POISSON_LAMBDA)\n",
    "            else:\n",
    "                rent_probability = poisson.pmf(second_rented, SECOND_LOCATION_REQUEST_POISSON_LAMBDA)\n",
    "            \n",
    "            rent_probability *= rent_probability_1\n",
    "            \n",
    "            rent_reward = first_reward + second_rented * RENT_CAR_REWARD\n",
    "    \n",
    "            # Porque TOTAL_CARS_BY_LOCATION - first_location + first_rented?\n",
    "            # A quantidade de carros retornados não deve passar capacidade máxima de carros da locadora.\n",
    "            # Os estados além da capacidade não devem ser mapeados.\n",
    "            for first_return in range(TOTAL_CARS_BY_LOCATION - first_location + first_rented + 1):\n",
    "                if first_return == TOTAL_CARS_BY_LOCATION - first_location + first_rented:\n",
    "                    return_probability_1 = 1 - poisson.cdf(first_return - 1, FIRST_LOCATION_RETURN_POISSON_LAMBDA)\n",
    "                else:    \n",
    "                    return_probability_1 = poisson.pmf(first_return, FIRST_LOCATION_RETURN_POISSON_LAMBDA)\n",
    "                \n",
    "                for second_return in range(TOTAL_CARS_BY_LOCATION - second_location + second_rented + 1):\n",
    "                    if second_return == TOTAL_CARS_BY_LOCATION - second_location + second_rented:\n",
    "                        return_probability = 1 - poisson.cdf(second_return - 1, SECOND_LOCATION_RETURN_POISSON_LAMBDA)\n",
    "                    else:    \n",
    "                        return_probability = poisson.pmf(second_return, SECOND_LOCATION_RETURN_POISSON_LAMBDA)\n",
    "                    \n",
    "                    return_probability *= return_probability_1\n",
    "                    \n",
    "                    next_first_location = first_location - first_rented + first_return\n",
    "                    next_second_location = second_location - second_rented + second_return\n",
    "                    next_state = next_first_location, next_second_location\n",
    "                    \n",
    "                    parking_lot_reward = 0 if next_first_location <= FREE_PARKING_SPACE else -PARKING_LOT_COST\n",
    "                    parking_lot_reward += 0 if next_second_location <= FREE_PARKING_SPACE else -PARKING_LOT_COST\n",
    "                    \n",
    "                    future_reward = DISCOUNT_FACTOR * state_values[next_state]\n",
    "                    \n",
    "                    reward += rent_probability * return_probability * (move_car_reward + rent_reward \n",
    "                                                                       + parking_lot_reward + future_reward)\n",
    "\n",
    "    return reward"
   ]
  },
  {
   "cell_type": "code",
   "execution_count": null,
   "metadata": {},
   "outputs": [],
   "source": [
    "def policy_evaluation(state_values, policy):\n",
    "    \"\"\"\n",
    "    Avaliação da política: atualizando os valor reais de cada estado dado uma política.\n",
    "    \"\"\"\n",
    "    error = None\n",
    "    while error is None or error > ERROR_THRESHOLD:\n",
    "        error = 0\n",
    "        for s in STATES:\n",
    "            value = state_values[s]\n",
    "            state_values[s] = reward_expectation(s, policy[s], state_values)\n",
    "            error = max(error, abs(value - state_values[s]))\n",
    "        print(f'Policy evaluation error: {error}')"
   ]
  },
  {
   "cell_type": "code",
   "execution_count": null,
   "metadata": {},
   "outputs": [],
   "source": [
    "def policy_improvement(state_values, policy):\n",
    "    \"\"\"\n",
    "    Melhora a política utilizando a função state-value como base. Escolhe as ações que vão dá as melhores recompensas.\n",
    "    :return True se a política foi alterada. Caso contrário, False, significando que política já está estável. \n",
    "    \"\"\"\n",
    "    is_policy_stable = True\n",
    "    for s in STATES:\n",
    "        old_action = policy[s]\n",
    "        policy[s] = max(ACTIONS_SET[s], key=lambda a: reward_expectation(s, a, state_values))\n",
    "        is_policy_stable = False if old_action != policy[s] else is_policy_stable\n",
    "    return not is_policy_stable"
   ]
  },
  {
   "cell_type": "code",
   "execution_count": null,
   "metadata": {},
   "outputs": [],
   "source": [
    "def plot_results(policy, state_values):\n",
    "    \"\"\"\n",
    "    Plota o gráfico color map para a política e uma projeção do 3D da função estado-valor\n",
    "    \"\"\"\n",
    "    \n",
    "    # Plot do Color Map\n",
    "    data = np.array([[policy[(f, s)] for s in range(TOTAL_CARS_BY_LOCATION + 1)] for f in range(TOTAL_CARS_BY_LOCATION + 1)])\n",
    "\n",
    "    fig = plt.figure(figsize=(10, 4))\n",
    "    color_map_axis = fig.add_subplot(1, 2, 1)\n",
    "    color_map = color_map_axis.imshow(data, origin='lower', interpolation='none', vmin=-MAX_MOVE_CARS, vmax=MAX_MOVE_CARS)\n",
    "    color_map_axis.set_xlabel('#Cars at second location', fontsize=13)\n",
    "    color_map_axis.set_ylabel('#Cars at first location', fontsize=13)\n",
    "    color_map_axis.set_title('Jack\\'s car rental problem policy')\n",
    "    plt.colorbar(color_map, ticks=[c for c in range(-MAX_MOVE_CARS, MAX_MOVE_CARS + 1)])\n",
    "\n",
    "    # Plot do Estado-Valor\n",
    "    state_values_data = np.array([[state_values[(f, s)] for s in range(TOTAL_CARS_BY_LOCATION + 1)] for f in range(TOTAL_CARS_BY_LOCATION + 1)])\n",
    "    state_value_axis = fig.add_subplot(1, 2, 2, projection='3d')\n",
    "\n",
    "    X = np.arange(TOTAL_CARS_BY_LOCATION + 1)\n",
    "    Y = np.arange(TOTAL_CARS_BY_LOCATION + 1)\n",
    "    X, Y = np.meshgrid(X, Y)\n",
    "\n",
    "    state_value_axis.plot_surface(X, Y, state_values_data)\n",
    "    state_value_axis.set_title('State-value function vπ(s)')\n",
    "    state_value_axis.set_xlabel('#Cars at second location', fontsize=11)\n",
    "    state_value_axis.set_ylabel('#Cars at first location', fontsize=11)\n",
    "    state_value_axis.set_zlabel('vπ(s)', fontsize=11)"
   ]
  },
  {
   "cell_type": "markdown",
   "metadata": {},
   "source": [
    "**Problema original**"
   ]
  },
  {
   "cell_type": "code",
   "execution_count": null,
   "metadata": {},
   "outputs": [],
   "source": [
    "# Inicialização do vetor state-value e policy\n",
    "state_values = {s: 0 for s in STATES}\n",
    "policy = {s: choice(ACTIONS_SET[s]) for s in STATES}"
   ]
  },
  {
   "cell_type": "code",
   "execution_count": null,
   "metadata": {
    "scrolled": true
   },
   "outputs": [],
   "source": [
    "is_policy_stable = False\n",
    "for i in range(MAX_POLICY_IMPROVEMENT_ITERATIONS):\n",
    "    print(f'Iteration {i + 1}: Policy evaluation...')\n",
    "    policy_evaluation(state_values, policy)\n",
    "    print(f'Iteration {i + 1}: Policy improvement...')\n",
    "    if not policy_improvement(state_values, policy):\n",
    "        break\n",
    "print('Finished!')"
   ]
  },
  {
   "cell_type": "code",
   "execution_count": null,
   "metadata": {},
   "outputs": [],
   "source": [
    "plot_results(policy, state_values)"
   ]
  },
  {
   "cell_type": "markdown",
   "metadata": {},
   "source": [
    "**Problema Modificado**\n",
    "- Transportar carros da primeira locadora para a segunda tem frete grátis para somente um carro. Transportar mais de um tem custo de 2 para cada carro adicional.\n",
    "- Há um custo de 4 para manter mais de 10 carros nas locadoras."
   ]
  },
  {
   "cell_type": "code",
   "execution_count": null,
   "metadata": {},
   "outputs": [],
   "source": [
    "# Limpar o cache do problema anterior\n",
    "REWARD_EXPECTATION_CONSTANTS_CACHE = dict()\n",
    "\n",
    "# Definição das constantes\n",
    "FIRST_LOCATION_FREE_MOVE_CARS = 1\n",
    "SECOND_LOCATION_FREE_MOVE_CARS = 0\n",
    "\n",
    "PARKING_LOT_COST = 4\n",
    "FREE_PARKING_SPACE = 10"
   ]
  },
  {
   "cell_type": "code",
   "execution_count": null,
   "metadata": {},
   "outputs": [],
   "source": [
    "# Inicialização do vetor state-value e policy\n",
    "state_values_2 = {s: 0 for s in STATES}\n",
    "policy_2 = {s: choice(ACTIONS_SET[s]) for s in STATES}"
   ]
  },
  {
   "cell_type": "code",
   "execution_count": null,
   "metadata": {},
   "outputs": [],
   "source": [
    "is_policy_stable = False\n",
    "for i in range(MAX_POLICY_IMPROVEMENT_ITERATIONS):\n",
    "    print(f'Iteration {i + 1}: Policy evaluation...')\n",
    "    policy_evaluation(state_values_2, policy_2)\n",
    "    print(f'Iteration {i + 1}: Policy improvement...')\n",
    "    if not policy_improvement(state_values_2, policy_2):\n",
    "        break\n",
    "print('Finished!')"
   ]
  },
  {
   "cell_type": "code",
   "execution_count": null,
   "metadata": {},
   "outputs": [],
   "source": [
    "plot_results(policy_2, state_values_2)"
   ]
  }
 ],
 "metadata": {
  "kernelspec": {
   "display_name": "Python 3",
   "language": "python",
   "name": "python3"
  },
  "language_info": {
   "codemirror_mode": {
    "name": "ipython",
    "version": 3
   },
   "file_extension": ".py",
   "mimetype": "text/x-python",
   "name": "python",
   "nbconvert_exporter": "python",
   "pygments_lexer": "ipython3",
   "version": "3.8.5"
  }
 },
 "nbformat": 4,
 "nbformat_minor": 4
}
