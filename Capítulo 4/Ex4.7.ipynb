{
 "cells": [
  {
   "cell_type": "code",
   "execution_count": 1,
   "metadata": {},
   "outputs": [],
   "source": [
    "from copy import copy\n",
    "from random import choice\n",
    "from scipy.stats import poisson, skellam\n",
    "from itertools import product, chain"
   ]
  },
  {
   "cell_type": "code",
   "execution_count": 2,
   "metadata": {},
   "outputs": [],
   "source": [
    "# Constantes\n",
    "RENT_REWARD = 10\n",
    "MOVE_CAR_COST = 2\n",
    "MAX_MOVE_CARS = 5\n",
    "TOTAL_CARS_BY_LOCATION = 20\n",
    "\n",
    "# λ para a distribuição de probabilidade Poisson do número\n",
    "# de retornos e pedidos de aluguel\n",
    "FIRST_LOCATION_REQUEST_POISSON_LAMBDA = 3\n",
    "FIRST_LOCATION_RETURN_POISSON_LAMBDA = 3\n",
    "SECOND_LOCATION_REQUEST_POISSON_LAMBDA = 4\n",
    "SECOND_LOCATION_RETURN_POISSON_LAMBDA = 2\n",
    "\n",
    "# Hyperparâmetros \n",
    "DISCOUNT_FACTOR = 0.9\n",
    "ERROR_THRESHOLD = 0.001\n",
    "MAX_POLICY_IMPROVEMENT_ITERATIONS = 10 ** 5\n",
    "\n",
    "FIRST_LOCATION_RENTED_CARS_CALC_RANGE = tuple(int(n) for n in poisson.interval(0.999, FIRST_LOCATION_REQUEST_POISSON_LAMBDA))\n",
    "SECOND_LOCATION_RENTED_CARS_CALC_RANGE = map(int, poisson.interval(0.999, SECOND_LOCATION_REQUEST_POISSON_LAMBDA))\n",
    "FIRST_LOCATION_NEXT_BALANCE_CALC_RANGE = map(int, skellam.interval(0.999, FIRST_LOCATION_RETURN_POISSON_LAMBDA, \n",
    "                                                                   FIRST_LOCATION_REQUEST_POISSON_LAMBDA))\n",
    "SECOND_LOCATION_NEXT_BALANCE_CALC_RANGE = map(int, skellam.interval(0.999, SECOND_LOCATION_RETURN_POISSON_LAMBDA, \n",
    "                                                                    SECOND_LOCATION_REQUEST_POISSON_LAMBDA))"
   ]
  },
  {
   "cell_type": "code",
   "execution_count": 22,
   "metadata": {},
   "outputs": [
    {
     "ename": "TypeError",
     "evalue": "'map' object is not subscriptable",
     "output_type": "error",
     "traceback": [
      "\u001b[1;31m---------------------------------------------------------------------------\u001b[0m",
      "\u001b[1;31mTypeError\u001b[0m                                 Traceback (most recent call last)",
      "\u001b[1;32m<ipython-input-22-e633cc7c78c3>\u001b[0m in \u001b[0;36m<module>\u001b[1;34m\u001b[0m\n\u001b[1;32m----> 1\u001b[1;33m FIRST_LOCATION_NEXT_BALANCE_CALC_RANGE = tuple(range(FIRST_LOCATION_NEXT_BALANCE_CALC_RANGE[0], \n\u001b[0m\u001b[0;32m      2\u001b[0m                                                      FIRST_LOCATION_NEXT_BALANCE_CALC_RANGE[1]))\n\u001b[0;32m      3\u001b[0m SECOND_LOCATION_NEXT_BALANCE_CALC_RANGE = tuple(range(SECOND_LOCATION_NEXT_BALANCE_CALC_RANGE[0], \n\u001b[0;32m      4\u001b[0m                                                       SECOND_LOCATION_NEXT_BALANCE_CALC_RANGE[1]))\n",
      "\u001b[1;31mTypeError\u001b[0m: 'map' object is not subscriptable"
     ]
    }
   ],
   "source": [
    "FIRST_LOCATION_NEXT_BALANCE_CALC_RANGE = tuple(range(FIRST_LOCATION_NEXT_BALANCE_CALC_RANGE[0], \n",
    "                                                     FIRST_LOCATION_NEXT_BALANCE_CALC_RANGE[1]))\n",
    "SECOND_LOCATION_NEXT_BALANCE_CALC_RANGE = tuple(range(SECOND_LOCATION_NEXT_BALANCE_CALC_RANGE[0], \n",
    "                                                      SECOND_LOCATION_NEXT_BALANCE_CALC_RANGE[1]))"
   ]
  },
  {
   "cell_type": "code",
   "execution_count": 3,
   "metadata": {},
   "outputs": [],
   "source": [
    "# Estados\n",
    "STATES_BY_LOCATION = tuple(range(TOTAL_CARS_BY_LOCATION + 1))\n",
    "STATES = list(product(STATES_BY_LOCATION, STATES_BY_LOCATION))"
   ]
  },
  {
   "cell_type": "code",
   "execution_count": 4,
   "metadata": {},
   "outputs": [],
   "source": [
    "def actions_set(state):\n",
    "    \"\"\"\n",
    "    Ações possíveis dado um estado. Exemplo: Dado estado (15, 18) -> [-5, -4, -3, -2, -1, 0, 1, 2]\n",
    "    \"\"\"\n",
    "    first_location, second_location = state\n",
    "    # O número máximo de carros que pode sair de uma locadora é, o menor número entre:\n",
    "    #    - O número de carros na locadora (first_location)\n",
    "    #    - O número máximo de carros que a segunda locadora pode receber (TOTAL_CARS_BY_LOCATION - second_location)\n",
    "    #    - O número máximo de movimentos (MAX_MOVE_CARS)\n",
    "    from_first_location = min(first_location, TOTAL_CARS_BY_LOCATION - second_location, MAX_MOVE_CARS)\n",
    "    from_first_location = range(1, from_first_location + 1)\n",
    "    from_second_location = min(second_location, TOTAL_CARS_BY_LOCATION - first_location, MAX_MOVE_CARS)\n",
    "    from_second_location = range(-1, from_second_location * -1 - 1, -1)\n",
    "    return tuple(chain(from_second_location, (0,), from_first_location))"
   ]
  },
  {
   "cell_type": "code",
   "execution_count": null,
   "metadata": {},
   "outputs": [],
   "source": [
    "    "
   ]
  },
  {
   "cell_type": "code",
   "execution_count": 5,
   "metadata": {},
   "outputs": [],
   "source": [
    "def rental_cars_probability_given_balance(rental_cars, balance, request_lambda, return_lambda):\n",
    "    \"\"\"\n",
    "    Probabilidade de pedidos (rental_cars) dado o saldo final de carros (balance).\n",
    "    Segundo o teorema de Bayes (Probabilidade condicional), temos:\n",
    "    P(A | B) = P(B | A) * P (A) / P(B)\n",
    "    P(A) -> Probabilidade da quantidade de alugueis no dia\n",
    "    P(B) -> Probabilidade do saldo final de carros no dia\n",
    "    P(B | A) -> Probabilidade do saldo final de carros dado a quantidade de alugueis no dia\n",
    "    \n",
    "    Dado a quantidade de alugueis no dia, a probabilidade do saldo final de carros é igual a probabilidade\n",
    "    de carros devolvidos = saldos + quantidade de carros alugados no dia (balance + rental_cars).\n",
    "    \n",
    "    A probabilidade do saldo final de carros é dado pela distribuição Skellam. Skellam é a \n",
    "    dsitribuição de probabilidade da diferença entre duas variáveis aleatórias de Poission\n",
    "    \"\"\"\n",
    "    return (poisson.pmf(balance + rental_cars, return_lambda) * poisson.pmf(rental_cars, request_lambda) / \n",
    "            skellam.pmf(balance, return_lambda, request_lambda))"
   ]
  },
  {
   "cell_type": "code",
   "execution_count": 19,
   "metadata": {},
   "outputs": [],
   "source": [
    "def reward_expectation(state, action, state_values):\n",
    "    \"\"\"\n",
    "    Recompensa total esperada dado um estado e uma ação\n",
    "    \"\"\"\n",
    "    reward = 0\n",
    "    first_location, second_location = state\n",
    "    \n",
    "    # Primeiro é necessário fazer a transferência de carros entre as locadoras\n",
    "    first_location -= action\n",
    "    second_location += action\n",
    "    \n",
    "    \n",
    "    for balance in range(FIRST_LOCATION_NEXT_BALANCE_CALC_RANGE)\n",
    "\n",
    "    for next_state in STATES:\n",
    "        next_first_location, next_second_location = next_state\n",
    "        \n",
    "        # Recompensa esperada para a primeira locadora\n",
    "        for rented in range(MAX_FIRST_LOCATION_RENTED_CARS_CALC):\n",
    "            reward += rented * RENT_REWARD * rental_cars_probability_given_balance(rented, next_first_location - first_location,\n",
    "                                                                                   FIRST_LOCATION_REQUEST_POISSON_LAMBDA,FIRST_LOCATION_RETURN_POISSON_LAMBDA)\n",
    "        # Recompensa esperada para a segunda locadora\n",
    "        for rented in range(MAX_SECOND_LOCATION_RENTED_CARS_CALC):\n",
    "            reward += rented * RENT_REWARD * rental_cars_probability_given_balance(rented, next_first_location - first_location,\n",
    "                                                                                   SECOND_LOCATION_REQUEST_POISSON_LAMBDA,\n",
    "                                                                                   SECOND_LOCATION_RETURN_POISSON_LAMBDA)\n",
    "            \n",
    "        # Recompensa futura\n",
    "        reward += DISCOUNT_FACTOR * state_values[next_state]\n",
    "\n",
    "    return reward"
   ]
  },
  {
   "cell_type": "code",
   "execution_count": 7,
   "metadata": {},
   "outputs": [],
   "source": [
    "def policy_evaluation(state_values, policy):\n",
    "    \"\"\"\n",
    "    Avaliação da política: atualizando os valor reais de cada estado dado uma política.\n",
    "    \"\"\"\n",
    "    error = None\n",
    "    while error is None or error > ERROR_THRESHOLD:\n",
    "        error = 0\n",
    "        for s in STATES:\n",
    "            print(s)\n",
    "            value = state_values[s]\n",
    "            state_values[s] = reward_expectation(s, policy[s], state_values)\n",
    "            error = max(error, abs(value - state_values[s]))\n",
    "            print('finish')"
   ]
  },
  {
   "cell_type": "code",
   "execution_count": 8,
   "metadata": {},
   "outputs": [],
   "source": [
    "def policy_improvement(state_values, policy):\n",
    "    \"\"\"\n",
    "    Melhora a política utilizando a função state-value como base. Escolhe as ações que vão dá as melhores recompensas.\n",
    "    :return True se a política foi alterada. Caso contrário, False, significando que política já está estável. \n",
    "    \"\"\"\n",
    "    is_policy_stable = True\n",
    "    for s in STATES:\n",
    "        old_action = policy[s]\n",
    "        policy[s] = max(actions_set(s), lambda a: reward_expectation(s, a, state_values))\n",
    "        is_policy_stable = False if old_action != policy[s] else is_policy_stable\n",
    "    return not is_policy_stable"
   ]
  },
  {
   "cell_type": "code",
   "execution_count": 20,
   "metadata": {},
   "outputs": [
    {
     "name": "stdout",
     "output_type": "stream",
     "text": [
      "Iteration 1: Policy evaluation...\n",
      "(0, 0)\n",
      "finish\n",
      "(0, 1)\n",
      "finish\n",
      "(0, 2)\n",
      "finish\n",
      "(0, 3)\n",
      "finish\n",
      "(0, 4)\n",
      "finish\n",
      "(0, 5)\n",
      "finish\n",
      "(0, 6)\n",
      "finish\n",
      "(0, 7)\n",
      "finish\n",
      "(0, 8)\n",
      "finish\n",
      "(0, 9)\n",
      "finish\n",
      "(0, 10)\n",
      "finish\n",
      "(0, 11)\n",
      "finish\n",
      "(0, 12)\n"
     ]
    },
    {
     "ename": "KeyboardInterrupt",
     "evalue": "",
     "output_type": "error",
     "traceback": [
      "\u001b[1;31m---------------------------------------------------------------------------\u001b[0m",
      "\u001b[1;31mKeyboardInterrupt\u001b[0m                         Traceback (most recent call last)",
      "\u001b[1;32m<ipython-input-20-8866d75a30ef>\u001b[0m in \u001b[0;36m<module>\u001b[1;34m\u001b[0m\n\u001b[0;32m      6\u001b[0m \u001b[1;32mfor\u001b[0m \u001b[0mi\u001b[0m \u001b[1;32min\u001b[0m \u001b[0mrange\u001b[0m\u001b[1;33m(\u001b[0m\u001b[0mMAX_POLICY_IMPROVEMENT_ITERATIONS\u001b[0m\u001b[1;33m)\u001b[0m\u001b[1;33m:\u001b[0m\u001b[1;33m\u001b[0m\u001b[1;33m\u001b[0m\u001b[0m\n\u001b[0;32m      7\u001b[0m     \u001b[0mprint\u001b[0m\u001b[1;33m(\u001b[0m\u001b[1;34mf'Iteration {i + 1}: Policy evaluation...'\u001b[0m\u001b[1;33m)\u001b[0m\u001b[1;33m\u001b[0m\u001b[1;33m\u001b[0m\u001b[0m\n\u001b[1;32m----> 8\u001b[1;33m     \u001b[0mpolicy_evaluation\u001b[0m\u001b[1;33m(\u001b[0m\u001b[0mstate_values\u001b[0m\u001b[1;33m,\u001b[0m \u001b[0mpolicy\u001b[0m\u001b[1;33m)\u001b[0m\u001b[1;33m\u001b[0m\u001b[1;33m\u001b[0m\u001b[0m\n\u001b[0m\u001b[0;32m      9\u001b[0m     \u001b[0mprint\u001b[0m\u001b[1;33m(\u001b[0m\u001b[1;34mf'Iteration {i + 1}: Policy improvement...'\u001b[0m\u001b[1;33m)\u001b[0m\u001b[1;33m\u001b[0m\u001b[1;33m\u001b[0m\u001b[0m\n\u001b[0;32m     10\u001b[0m     \u001b[1;32mif\u001b[0m \u001b[1;32mnot\u001b[0m \u001b[0mpolicy_improvement\u001b[0m\u001b[1;33m(\u001b[0m\u001b[0mstate_values\u001b[0m\u001b[1;33m,\u001b[0m \u001b[0mpolicy\u001b[0m\u001b[1;33m)\u001b[0m\u001b[1;33m:\u001b[0m\u001b[1;33m\u001b[0m\u001b[1;33m\u001b[0m\u001b[0m\n",
      "\u001b[1;32m<ipython-input-7-f4949005d802>\u001b[0m in \u001b[0;36mpolicy_evaluation\u001b[1;34m(state_values, policy)\u001b[0m\n\u001b[0;32m      9\u001b[0m             \u001b[0mprint\u001b[0m\u001b[1;33m(\u001b[0m\u001b[0ms\u001b[0m\u001b[1;33m)\u001b[0m\u001b[1;33m\u001b[0m\u001b[1;33m\u001b[0m\u001b[0m\n\u001b[0;32m     10\u001b[0m             \u001b[0mvalue\u001b[0m \u001b[1;33m=\u001b[0m \u001b[0mstate_values\u001b[0m\u001b[1;33m[\u001b[0m\u001b[0ms\u001b[0m\u001b[1;33m]\u001b[0m\u001b[1;33m\u001b[0m\u001b[1;33m\u001b[0m\u001b[0m\n\u001b[1;32m---> 11\u001b[1;33m             \u001b[0mstate_values\u001b[0m\u001b[1;33m[\u001b[0m\u001b[0ms\u001b[0m\u001b[1;33m]\u001b[0m \u001b[1;33m=\u001b[0m \u001b[0mreward_expectation\u001b[0m\u001b[1;33m(\u001b[0m\u001b[0ms\u001b[0m\u001b[1;33m,\u001b[0m \u001b[0mpolicy\u001b[0m\u001b[1;33m[\u001b[0m\u001b[0ms\u001b[0m\u001b[1;33m]\u001b[0m\u001b[1;33m,\u001b[0m \u001b[0mstate_values\u001b[0m\u001b[1;33m)\u001b[0m\u001b[1;33m\u001b[0m\u001b[1;33m\u001b[0m\u001b[0m\n\u001b[0m\u001b[0;32m     12\u001b[0m             \u001b[0merror\u001b[0m \u001b[1;33m=\u001b[0m \u001b[0mmax\u001b[0m\u001b[1;33m(\u001b[0m\u001b[0merror\u001b[0m\u001b[1;33m,\u001b[0m \u001b[0mabs\u001b[0m\u001b[1;33m(\u001b[0m\u001b[0mvalue\u001b[0m \u001b[1;33m-\u001b[0m \u001b[0mstate_values\u001b[0m\u001b[1;33m[\u001b[0m\u001b[0ms\u001b[0m\u001b[1;33m]\u001b[0m\u001b[1;33m)\u001b[0m\u001b[1;33m)\u001b[0m\u001b[1;33m\u001b[0m\u001b[1;33m\u001b[0m\u001b[0m\n\u001b[0;32m     13\u001b[0m             \u001b[0mprint\u001b[0m\u001b[1;33m(\u001b[0m\u001b[1;34m'finish'\u001b[0m\u001b[1;33m)\u001b[0m\u001b[1;33m\u001b[0m\u001b[1;33m\u001b[0m\u001b[0m\n",
      "\u001b[1;32m<ipython-input-19-815a27949dbc>\u001b[0m in \u001b[0;36mreward_expectation\u001b[1;34m(state, action, state_values)\u001b[0m\n\u001b[0;32m     15\u001b[0m         \u001b[1;31m# Recompensa esperada para a primeira locadora\u001b[0m\u001b[1;33m\u001b[0m\u001b[1;33m\u001b[0m\u001b[1;33m\u001b[0m\u001b[0m\n\u001b[0;32m     16\u001b[0m         \u001b[1;32mfor\u001b[0m \u001b[0mrented\u001b[0m \u001b[1;32min\u001b[0m \u001b[0mrange\u001b[0m\u001b[1;33m(\u001b[0m\u001b[1;36m1\u001b[0m\u001b[1;33m)\u001b[0m\u001b[1;33m:\u001b[0m\u001b[1;33m\u001b[0m\u001b[1;33m\u001b[0m\u001b[0m\n\u001b[1;32m---> 17\u001b[1;33m             reward += rented * RENT_REWARD * rental_cars_probability_given_balance(rented, next_first_location - first_location,\n\u001b[0m\u001b[0;32m     18\u001b[0m                                                                                    \u001b[0mFIRST_LOCATION_REQUEST_POISSON_LAMBDA\u001b[0m\u001b[1;33m,\u001b[0m\u001b[1;33m\u001b[0m\u001b[1;33m\u001b[0m\u001b[0m\n\u001b[0;32m     19\u001b[0m                                                                                    FIRST_LOCATION_RETURN_POISSON_LAMBDA)\n",
      "\u001b[1;32m<ipython-input-5-63dc80b13237>\u001b[0m in \u001b[0;36mrental_cars_probability_given_balance\u001b[1;34m(rental_cars, balance, request_lambda, return_lambda)\u001b[0m\n\u001b[0;32m     15\u001b[0m     \"\"\"\n\u001b[0;32m     16\u001b[0m     return (poisson.pmf(balance + rental_cars, return_lambda) * poisson.pmf(rental_cars, request_lambda) / \n\u001b[1;32m---> 17\u001b[1;33m             skellam.pmf(balance, return_lambda, request_lambda))\n\u001b[0m",
      "\u001b[1;32mc:\\users\\igorxp5\\appdata\\local\\programs\\python\\python38\\lib\\site-packages\\scipy\\stats\\_distn_infrastructure.py\u001b[0m in \u001b[0;36mpmf\u001b[1;34m(self, k, *args, **kwds)\u001b[0m\n\u001b[0;32m   3001\u001b[0m         \u001b[1;32mif\u001b[0m \u001b[0mnp\u001b[0m\u001b[1;33m.\u001b[0m\u001b[0many\u001b[0m\u001b[1;33m(\u001b[0m\u001b[0mcond\u001b[0m\u001b[1;33m)\u001b[0m\u001b[1;33m:\u001b[0m\u001b[1;33m\u001b[0m\u001b[1;33m\u001b[0m\u001b[0m\n\u001b[0;32m   3002\u001b[0m             \u001b[0mgoodargs\u001b[0m \u001b[1;33m=\u001b[0m \u001b[0margsreduce\u001b[0m\u001b[1;33m(\u001b[0m\u001b[0mcond\u001b[0m\u001b[1;33m,\u001b[0m \u001b[1;33m*\u001b[0m\u001b[1;33m(\u001b[0m\u001b[1;33m(\u001b[0m\u001b[0mk\u001b[0m\u001b[1;33m,\u001b[0m\u001b[1;33m)\u001b[0m\u001b[1;33m+\u001b[0m\u001b[0margs\u001b[0m\u001b[1;33m)\u001b[0m\u001b[1;33m)\u001b[0m\u001b[1;33m\u001b[0m\u001b[1;33m\u001b[0m\u001b[0m\n\u001b[1;32m-> 3003\u001b[1;33m             \u001b[0mplace\u001b[0m\u001b[1;33m(\u001b[0m\u001b[0moutput\u001b[0m\u001b[1;33m,\u001b[0m \u001b[0mcond\u001b[0m\u001b[1;33m,\u001b[0m \u001b[0mnp\u001b[0m\u001b[1;33m.\u001b[0m\u001b[0mclip\u001b[0m\u001b[1;33m(\u001b[0m\u001b[0mself\u001b[0m\u001b[1;33m.\u001b[0m\u001b[0m_pmf\u001b[0m\u001b[1;33m(\u001b[0m\u001b[1;33m*\u001b[0m\u001b[0mgoodargs\u001b[0m\u001b[1;33m)\u001b[0m\u001b[1;33m,\u001b[0m \u001b[1;36m0\u001b[0m\u001b[1;33m,\u001b[0m \u001b[1;36m1\u001b[0m\u001b[1;33m)\u001b[0m\u001b[1;33m)\u001b[0m\u001b[1;33m\u001b[0m\u001b[1;33m\u001b[0m\u001b[0m\n\u001b[0m\u001b[0;32m   3004\u001b[0m         \u001b[1;32mif\u001b[0m \u001b[0moutput\u001b[0m\u001b[1;33m.\u001b[0m\u001b[0mndim\u001b[0m \u001b[1;33m==\u001b[0m \u001b[1;36m0\u001b[0m\u001b[1;33m:\u001b[0m\u001b[1;33m\u001b[0m\u001b[1;33m\u001b[0m\u001b[0m\n\u001b[0;32m   3005\u001b[0m             \u001b[1;32mreturn\u001b[0m \u001b[0moutput\u001b[0m\u001b[1;33m[\u001b[0m\u001b[1;33m(\u001b[0m\u001b[1;33m)\u001b[0m\u001b[1;33m]\u001b[0m\u001b[1;33m\u001b[0m\u001b[1;33m\u001b[0m\u001b[0m\n",
      "\u001b[1;32m<__array_function__ internals>\u001b[0m in \u001b[0;36mplace\u001b[1;34m(*args, **kwargs)\u001b[0m\n",
      "\u001b[1;32mc:\\users\\igorxp5\\appdata\\local\\programs\\python\\python38\\lib\\site-packages\\numpy\\lib\\function_base.py\u001b[0m in \u001b[0;36mplace\u001b[1;34m(arr, mask, vals)\u001b[0m\n\u001b[0;32m   1723\u001b[0m                         \"not {name}\".format(name=type(arr).__name__))\n\u001b[0;32m   1724\u001b[0m \u001b[1;33m\u001b[0m\u001b[0m\n\u001b[1;32m-> 1725\u001b[1;33m     \u001b[1;32mreturn\u001b[0m \u001b[0m_insert\u001b[0m\u001b[1;33m(\u001b[0m\u001b[0marr\u001b[0m\u001b[1;33m,\u001b[0m \u001b[0mmask\u001b[0m\u001b[1;33m,\u001b[0m \u001b[0mvals\u001b[0m\u001b[1;33m)\u001b[0m\u001b[1;33m\u001b[0m\u001b[1;33m\u001b[0m\u001b[0m\n\u001b[0m\u001b[0;32m   1726\u001b[0m \u001b[1;33m\u001b[0m\u001b[0m\n\u001b[0;32m   1727\u001b[0m \u001b[1;33m\u001b[0m\u001b[0m\n",
      "\u001b[1;31mKeyboardInterrupt\u001b[0m: "
     ]
    }
   ],
   "source": [
    "# Inicialização do vetor state-value e policy\n",
    "state_values = {s: 0 for s in STATES}\n",
    "policy = {s: choice(actions_set(s)) for s in STATES}\n",
    "\n",
    "is_policy_stable = False\n",
    "for i in range(MAX_POLICY_IMPROVEMENT_ITERATIONS):\n",
    "    print(f'Iteration {i + 1}: Policy evaluation...')\n",
    "    policy_evaluation(state_values, policy)\n",
    "    print(f'Iteration {i + 1}: Policy improvement...')\n",
    "    if not policy_improvement(state_values, policy):\n",
    "        break"
   ]
  },
  {
   "cell_type": "code",
   "execution_count": 18,
   "metadata": {},
   "outputs": [
    {
     "data": {
      "text/plain": [
       "0.010928975257349904"
      ]
     },
     "execution_count": 18,
     "metadata": {},
     "output_type": "execute_result"
    }
   ],
   "source": [
    "rental_cars_probability_given_balance(5, 3,\n",
    "                                      FIRST_LOCATION_REQUEST_POISSON_LAMBDA,\n",
    "                                      FIRST_LOCATION_RETURN_POISSON_LAMBDA)"
   ]
  },
  {
   "cell_type": "code",
   "execution_count": null,
   "metadata": {},
   "outputs": [],
   "source": []
  }
 ],
 "metadata": {
  "kernelspec": {
   "display_name": "Python 3",
   "language": "python",
   "name": "python3"
  },
  "language_info": {
   "codemirror_mode": {
    "name": "ipython",
    "version": 3
   },
   "file_extension": ".py",
   "mimetype": "text/x-python",
   "name": "python",
   "nbconvert_exporter": "python",
   "pygments_lexer": "ipython3",
   "version": "3.8.5"
  }
 },
 "nbformat": 4,
 "nbformat_minor": 4
}
